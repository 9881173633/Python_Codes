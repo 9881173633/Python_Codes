{
 "cells": [
  {
   "cell_type": "markdown",
   "id": "f23f3b6b",
   "metadata": {},
   "source": [
    "# Q.1 Write a program to print 'Hello Python' ten times."
   ]
  },
  {
   "cell_type": "code",
   "execution_count": 3,
   "id": "59b9a017",
   "metadata": {},
   "outputs": [
    {
     "name": "stdout",
     "output_type": "stream",
     "text": [
      "Hello Python\n",
      "Hello Python\n",
      "Hello Python\n",
      "Hello Python\n",
      "Hello Python\n",
      "Hello Python\n",
      "Hello Python\n",
      "Hello Python\n",
      "Hello Python\n",
      "Hello Python\n"
     ]
    }
   ],
   "source": [
    "for i in range(10):     #for loop use\n",
    "    print(\"Hello Python\")"
   ]
  },
  {
   "cell_type": "code",
   "execution_count": 18,
   "id": "3758fba9",
   "metadata": {},
   "outputs": [
    {
     "name": "stdout",
     "output_type": "stream",
     "text": [
      "Hello Python\n",
      "Hello Python\n",
      "Hello Python\n",
      "Hello Python\n",
      "Hello Python\n",
      "Hello Python\n",
      "Hello Python\n",
      "Hello Python\n",
      "Hello Python\n",
      "Hello Python\n"
     ]
    }
   ],
   "source": [
    "i=1                  #while loop use\n",
    "while i<=10:\n",
    "    print(\"Hello Python\")\n",
    "    i+=1"
   ]
  },
  {
   "cell_type": "markdown",
   "id": "744d57e7",
   "metadata": {},
   "source": [
    "# Q.2 Write a program to print number from 1 to 10."
   ]
  },
  {
   "cell_type": "code",
   "execution_count": 4,
   "id": "0838b498",
   "metadata": {},
   "outputs": [
    {
     "name": "stdout",
     "output_type": "stream",
     "text": [
      "1\n",
      "2\n",
      "3\n",
      "4\n",
      "5\n",
      "6\n",
      "7\n",
      "8\n",
      "9\n",
      "10\n"
     ]
    }
   ],
   "source": [
    "for i in range(1,11):             #for loop use\n",
    "    print(i)"
   ]
  },
  {
   "cell_type": "code",
   "execution_count": 25,
   "id": "cc6179c4",
   "metadata": {},
   "outputs": [
    {
     "name": "stdout",
     "output_type": "stream",
     "text": [
      "1\n",
      "2\n",
      "3\n",
      "4\n",
      "5\n",
      "6\n",
      "7\n",
      "8\n",
      "9\n",
      "10\n"
     ]
    }
   ],
   "source": [
    "i=1                          #while loop use\n",
    "while range(i<=10):\n",
    "    print(i)\n",
    "    i+=1"
   ]
  },
  {
   "cell_type": "markdown",
   "id": "fdaba57a",
   "metadata": {},
   "source": [
    "# Q.3 Write a program to print sum of first ten number."
   ]
  },
  {
   "cell_type": "code",
   "execution_count": 5,
   "id": "e471a2d0",
   "metadata": {},
   "outputs": [
    {
     "name": "stdout",
     "output_type": "stream",
     "text": [
      "The sum of the first ten numbers is: 55\n"
     ]
    }
   ],
   "source": [
    "sum = 0\n",
    "for i in range(1, 11):\n",
    "    sum += i\n",
    "print(\"The sum of the first ten numbers is:\", sum)\n"
   ]
  },
  {
   "cell_type": "markdown",
   "id": "0c1cb005",
   "metadata": {},
   "source": [
    "# Q.4  Write a program to print n number entered by the user."
   ]
  },
  {
   "cell_type": "code",
   "execution_count": 7,
   "id": "975217e0",
   "metadata": {},
   "outputs": [
    {
     "name": "stdout",
     "output_type": "stream",
     "text": [
      "Enter the number of integers you want to print: 10\n",
      "1 2 3 4 5 6 7 8 9 10 "
     ]
    }
   ],
   "source": [
    "n = int(input(\"Enter the number of integers you want to print: \"))\n",
    "for i in range(1, n+1):\n",
    "    print(i, end=\" \")\n"
   ]
  },
  {
   "cell_type": "markdown",
   "id": "ceeba7d6",
   "metadata": {},
   "source": [
    "# Q.5 Write a program to print sum of n numbers."
   ]
  },
  {
   "cell_type": "code",
   "execution_count": 4,
   "id": "4ba93c96",
   "metadata": {},
   "outputs": [
    {
     "name": "stdout",
     "output_type": "stream",
     "text": [
      "Enter the Value of n: \n",
      "4\n",
      "Enter 4 Numbers: \n",
      "3\n",
      "6\n",
      "7\n",
      "8\n",
      "Sum of 4 Numbers = 24\n"
     ]
    }
   ],
   "source": [
    "sum = 0\n",
    "print(\"Enter the Value of n: \")\n",
    "n = int(input())\n",
    "print(\"Enter \" + str(n) + \" Numbers: \")\n",
    "for i in range(n):\n",
    "    num = int(input())\n",
    "    sum = sum+num\n",
    "print(\"Sum of \" + str(n) + \" Numbers = \" + str(sum))"
   ]
  },
  {
   "cell_type": "markdown",
   "id": "61402fac",
   "metadata": {},
   "source": [
    "# Q.6 Write a program to print table of a number."
   ]
  },
  {
   "cell_type": "code",
   "execution_count": 9,
   "id": "cf0a0677",
   "metadata": {},
   "outputs": [
    {
     "name": "stdout",
     "output_type": "stream",
     "text": [
      "Enter a number: 6\n",
      "6 x 1 = 6\n",
      "6 x 2 = 12\n",
      "6 x 3 = 18\n",
      "6 x 4 = 24\n",
      "6 x 5 = 30\n",
      "6 x 6 = 36\n",
      "6 x 7 = 42\n",
      "6 x 8 = 48\n",
      "6 x 9 = 54\n",
      "6 x 10 = 60\n"
     ]
    }
   ],
   "source": [
    "n = int(input(\"Enter a number: \"))\n",
    "for i in range(1, 11):\n",
    "    print(n, \"x\", i, \"=\",n*i)\n"
   ]
  },
  {
   "cell_type": "markdown",
   "id": "6e8d8f94",
   "metadata": {},
   "source": [
    "# Q.7 Write a program to calculate the factorial of a numbers."
   ]
  },
  {
   "cell_type": "code",
   "execution_count": 12,
   "id": "a616b916",
   "metadata": {},
   "outputs": [
    {
     "name": "stdout",
     "output_type": "stream",
     "text": [
      "Enter a number: 10\n",
      "The factorial of 10 is 3628800\n"
     ]
    }
   ],
   "source": [
    "n = int(input(\"Enter a number: \"))\n",
    "factorial = 1\n",
    "for i in range(1, n+1):\n",
    "    factorial *= i\n",
    "print(\"The factorial of\", n, \"is\", factorial)\n"
   ]
  },
  {
   "cell_type": "markdown",
   "id": "e5a391c0",
   "metadata": {},
   "source": [
    "# Q.8 Write a program to print even number between 1 to 100."
   ]
  },
  {
   "cell_type": "code",
   "execution_count": 13,
   "id": "793815f0",
   "metadata": {},
   "outputs": [
    {
     "name": "stdout",
     "output_type": "stream",
     "text": [
      "2\n",
      "4\n",
      "6\n",
      "8\n",
      "10\n",
      "12\n",
      "14\n",
      "16\n",
      "18\n",
      "20\n",
      "22\n",
      "24\n",
      "26\n",
      "28\n",
      "30\n",
      "32\n",
      "34\n",
      "36\n",
      "38\n",
      "40\n",
      "42\n",
      "44\n",
      "46\n",
      "48\n",
      "50\n",
      "52\n",
      "54\n",
      "56\n",
      "58\n",
      "60\n",
      "62\n",
      "64\n",
      "66\n",
      "68\n",
      "70\n",
      "72\n",
      "74\n",
      "76\n",
      "78\n",
      "80\n",
      "82\n",
      "84\n",
      "86\n",
      "88\n",
      "90\n",
      "92\n",
      "94\n",
      "96\n",
      "98\n",
      "100\n"
     ]
    }
   ],
   "source": [
    "for i in range(2, 101, 2):\n",
    "    print(i)\n"
   ]
  },
  {
   "cell_type": "markdown",
   "id": "b8213c92",
   "metadata": {},
   "source": [
    "# Q.9 Write a program to print odd number between 1 to 100."
   ]
  },
  {
   "cell_type": "code",
   "execution_count": 14,
   "id": "bc99b5ac",
   "metadata": {},
   "outputs": [
    {
     "name": "stdout",
     "output_type": "stream",
     "text": [
      "1\n",
      "3\n",
      "5\n",
      "7\n",
      "9\n",
      "11\n",
      "13\n",
      "15\n",
      "17\n",
      "19\n",
      "21\n",
      "23\n",
      "25\n",
      "27\n",
      "29\n",
      "31\n",
      "33\n",
      "35\n",
      "37\n",
      "39\n",
      "41\n",
      "43\n",
      "45\n",
      "47\n",
      "49\n",
      "51\n",
      "53\n",
      "55\n",
      "57\n",
      "59\n",
      "61\n",
      "63\n",
      "65\n",
      "67\n",
      "69\n",
      "71\n",
      "73\n",
      "75\n",
      "77\n",
      "79\n",
      "81\n",
      "83\n",
      "85\n",
      "87\n",
      "89\n",
      "91\n",
      "93\n",
      "95\n",
      "97\n",
      "99\n"
     ]
    }
   ],
   "source": [
    "for i in range(1, 101, 2):\n",
    "    print(i)\n"
   ]
  },
  {
   "cell_type": "markdown",
   "id": "7535590b",
   "metadata": {},
   "source": [
    "# Q.10 Write a program to check whether a given number is palindrome or not."
   ]
  },
  {
   "cell_type": "code",
   "execution_count": 3,
   "id": "df122666",
   "metadata": {},
   "outputs": [
    {
     "name": "stdout",
     "output_type": "stream",
     "text": [
      "Enter number:32\n",
      "The number isn't a palindrome!\n"
     ]
    }
   ],
   "source": [
    "n=int(input(\"Enter number:\"))\n",
    "temp=n\n",
    "rev=0\n",
    "while(n>0):\n",
    "    dig=n%10\n",
    "    rev=rev*10+dig\n",
    "    n=n//10\n",
    "if(temp==rev):\n",
    "    print(\"The number is a palindrome!\")\n",
    "else:\n",
    "    print(\"The number isn't a palindrome!\")"
   ]
  },
  {
   "cell_type": "markdown",
   "id": "f166a1a6",
   "metadata": {},
   "source": [
    "# Q.11 Write a program to find factors of a number."
   ]
  },
  {
   "cell_type": "code",
   "execution_count": 16,
   "id": "ac4022c7",
   "metadata": {},
   "outputs": [
    {
     "name": "stdout",
     "output_type": "stream",
     "text": [
      "The factors of 10 are:\n",
      "1\n",
      "2\n",
      "5\n",
      "10\n"
     ]
    }
   ],
   "source": [
    "# Python Program to find the factors of a number\n",
    "\n",
    "# This function computes the factor of the argument passed\n",
    "def print_factors(x):\n",
    "    print(\"The factors of\",x,\"are:\")\n",
    "    for i in range(1, x + 1):\n",
    "        if x % i == 0:\n",
    "            print(i)\n",
    "\n",
    "num = 10\n",
    "\n",
    "print_factors(num)"
   ]
  },
  {
   "cell_type": "markdown",
   "id": "3e0491c2",
   "metadata": {},
   "source": [
    "# Q.12 Write a program to print the reverse of a number."
   ]
  },
  {
   "cell_type": "code",
   "execution_count": 2,
   "id": "32c78677",
   "metadata": {},
   "outputs": [
    {
     "name": "stdout",
     "output_type": "stream",
     "text": [
      "Enter a number: 16\n",
      "The reverse of 16 is: 61\n"
     ]
    }
   ],
   "source": [
    "# Function to reverse a number\n",
    "def reverse_number(number):\n",
    "    reverse = 0\n",
    "    while number > 0:\n",
    "        # Extract the last digit\n",
    "        digit = number % 10\n",
    "        # Add the digit to the reverse\n",
    "        reverse = reverse * 10 + digit\n",
    "        # Remove the last digit from the number\n",
    "        number = number // 10\n",
    "    return reverse\n",
    "\n",
    "# Get input from the user\n",
    "number = int(input(\"Enter a number: \"))\n",
    "\n",
    "# Call the function and print the reverse\n",
    "reverse = reverse_number(number)\n",
    "print(\"The reverse of\", number, \"is:\", reverse)\n"
   ]
  },
  {
   "cell_type": "markdown",
   "id": "4ded5478",
   "metadata": {},
   "source": [
    "# Q.13 Write a program to print the sum of reverse of a number."
   ]
  },
  {
   "cell_type": "code",
   "execution_count": 3,
   "id": "6519e21c",
   "metadata": {},
   "outputs": [
    {
     "name": "stdout",
     "output_type": "stream",
     "text": [
      "Enter a number: 32\n",
      "The sum of 32 and its reverse 23 is: 55\n"
     ]
    }
   ],
   "source": [
    "# Function to reverse a number\n",
    "\n",
    "def reverse_number(number):\n",
    "    reverse = 0\n",
    "    while number > 0:\n",
    "        # Extract the last digit\n",
    "        \n",
    "        digit = number % 10\n",
    "        # Add the digit to the reverse\n",
    "        \n",
    "        reverse = reverse * 10 + digit\n",
    "        # Remove the last digit from the number\n",
    "        \n",
    "        number = number // 10\n",
    "    return reverse\n",
    "\n",
    "# Get input from the user\n",
    "\n",
    "number = int(input(\"Enter a number: \"))\n",
    "\n",
    "# Call the function to reverse the number\n",
    "\n",
    "reverse = reverse_number(number)\n",
    "\n",
    "# Calculate the sum of the reversed number and print\n",
    "\n",
    "sum_of_reverse = number + reverse\n",
    "print(\"The sum of\", number, \"and its reverse\", reverse, \"is:\", sum_of_reverse)\n"
   ]
  },
  {
   "cell_type": "markdown",
   "id": "08efed6b",
   "metadata": {},
   "source": [
    "# Q.14 Write a program to check whether a given number is prime or not "
   ]
  },
  {
   "cell_type": "code",
   "execution_count": 5,
   "id": "fb2f2536",
   "metadata": {},
   "outputs": [
    {
     "name": "stdout",
     "output_type": "stream",
     "text": [
      "Enter a number: 10\n",
      "10 is not a prime number.\n"
     ]
    }
   ],
   "source": [
    "# Function to check if a number is prime\n",
    "def is_prime(number):\n",
    "    if number <= 1:\n",
    "        return False  # 0 and 1 are not prime\n",
    "\n",
    "    # Check for divisibility from 2 to the square root of the number\n",
    "    for i in range(2, int(number**0.5) + 1):\n",
    "        if number % i == 0:\n",
    "            return False  # If divisible, not a prime\n",
    "    return True  # If not divisible, it's a prime\n",
    "\n",
    "# Get input from the user\n",
    "number = int(input(\"Enter a number: \"))\n",
    "\n",
    "# Call the function to check if the number is prime\n",
    "if is_prime(number):\n",
    "    print(number, \"is a prime number.\")\n",
    "else:\n",
    "    print(number, \"is not a prime number.\")\n"
   ]
  },
  {
   "cell_type": "markdown",
   "id": "a40cb38f",
   "metadata": {},
   "source": [
    "# Q.15 Write a program to print prime number between 1 to 100."
   ]
  },
  {
   "cell_type": "code",
   "execution_count": 6,
   "id": "cad4cfd2",
   "metadata": {},
   "outputs": [
    {
     "name": "stdout",
     "output_type": "stream",
     "text": [
      "Prime numbers between 1 and 100:\n",
      "2\n",
      "3\n",
      "5\n",
      "7\n",
      "11\n",
      "13\n",
      "17\n",
      "19\n",
      "23\n",
      "29\n",
      "31\n",
      "37\n",
      "41\n",
      "43\n",
      "47\n",
      "53\n",
      "59\n",
      "61\n",
      "67\n",
      "71\n",
      "73\n",
      "79\n",
      "83\n",
      "89\n",
      "97\n"
     ]
    }
   ],
   "source": [
    "# Function to check if a number is prime\n",
    "def is_prime(number):\n",
    "    if number <= 1:\n",
    "        return False  # 0 and 1 are not prime\n",
    "\n",
    "    # Check for divisibility from 2 to the square root of the number\n",
    "    for i in range(2, int(number**0.5) + 1):\n",
    "        if number % i == 0:\n",
    "            return False  # If divisible, not a prime\n",
    "    return True  # If not divisible, it's a prime\n",
    "\n",
    "# Loop through numbers from 1 to 100 and print prime numbers\n",
    "print(\"Prime numbers between 1 and 100:\")\n",
    "for number in range(1, 101):\n",
    "    if is_prime(number):\n",
    "        print(number)\n"
   ]
  },
  {
   "cell_type": "markdown",
   "id": "37b884df",
   "metadata": {},
   "source": [
    "# Q.16 Write a program to print number is reverse order entered by the user."
   ]
  },
  {
   "cell_type": "code",
   "execution_count": 12,
   "id": "b3a4a1e1",
   "metadata": {},
   "outputs": [
    {
     "name": "stdout",
     "output_type": "stream",
     "text": [
      "Enter by user12345\n",
      "Reversed Number: 54321\n"
     ]
    }
   ],
   "source": [
    "num = int(input(\"Enter by user\"))\n",
    "reversed_num = 0\n",
    "\n",
    "while num != 0:\n",
    "    digit = num % 10\n",
    "    reversed_num = reversed_num * 10 + digit\n",
    "    num //= 10\n",
    "\n",
    "print(\"Reversed Number: \" + str(reversed_num))"
   ]
  },
  {
   "cell_type": "markdown",
   "id": "9c743092",
   "metadata": {},
   "source": [
    "# Q.17 Write a program to print the cube of all numbers from 1 to a given number."
   ]
  },
  {
   "cell_type": "code",
   "execution_count": 14,
   "id": "53bd2465",
   "metadata": {},
   "outputs": [
    {
     "name": "stdout",
     "output_type": "stream",
     "text": [
      "Enter a number: 5\n",
      "Cubes of numbers from 1 to 5 :\n",
      "Cube of 1 is 1\n",
      "Cube of 2 is 8\n",
      "Cube of 3 is 27\n",
      "Cube of 4 is 64\n",
      "Cube of 5 is 125\n"
     ]
    }
   ],
   "source": [
    "# Get input from the user\n",
    "number = int(input(\"Enter a number: \"))\n",
    "\n",
    "# Print the cube of numbers from 1 to the given number\n",
    "print(\"Cubes of numbers from 1 to\", number, \":\")\n",
    "for i in range(1, number + 1):\n",
    "    cube = i ** 3  # Calculate the cube of the current number\n",
    "    print(\"Cube of\", i, \"is\", cube)\n"
   ]
  },
  {
   "cell_type": "markdown",
   "id": "66e669f5",
   "metadata": {},
   "source": [
    "# 18 Write a program to count the total number of digits in a number."
   ]
  },
  {
   "cell_type": "code",
   "execution_count": 16,
   "id": "084f8114",
   "metadata": {},
   "outputs": [
    {
     "name": "stdout",
     "output_type": "stream",
     "text": [
      "Enter a number: 23674\n",
      "Total number of digits in the number: 5\n"
     ]
    }
   ],
   "source": [
    "def count_digits(number):\n",
    "    \"\"\"\n",
    "    Count the total number of digits in a given number.\n",
    "    \"\"\"\n",
    "    # Convert the number to a string to easily access its digits\n",
    "    number_str = str(number)\n",
    "    # Use len() function to get the count of digits\n",
    "    num_of_digits = len(number_str)\n",
    "    return num_of_digits\n",
    "\n",
    "# Get input from user\n",
    "number = int(input(\"Enter a number: \"))\n",
    "# Call the count_digits() function and store the result\n",
    "num_of_digits = count_digits(number)\n",
    "# Print the result\n",
    "print(\"Total number of digits in the number:\", num_of_digits)\n"
   ]
  },
  {
   "cell_type": "markdown",
   "id": "29d4f32d",
   "metadata": {},
   "source": [
    "# Q.19 write a program to print fibonacci series."
   ]
  },
  {
   "cell_type": "code",
   "execution_count": 19,
   "id": "d51a40a1",
   "metadata": {},
   "outputs": [
    {
     "name": "stdout",
     "output_type": "stream",
     "text": [
      "Enter the number of terms for Fibonacci series: 4\n",
      "Fibonacci series up to 4 terms:\n",
      "0 1 1 2 \n"
     ]
    }
   ],
   "source": [
    "def fibonacci_series(n):\n",
    "    \"\"\"\n",
    "    Generate and print the Fibonacci series up to n terms.\n",
    "    \"\"\"\n",
    "    # Initialize the first two terms of the series\n",
    "    a, b = 0, 1\n",
    "    # Print the first two terms\n",
    "    print(\"Fibonacci series up to\", n, \"terms:\")\n",
    "    print(a, end=\" \")\n",
    "    print(b, end=\" \")\n",
    "    # Loop from 3rd to n-th term\n",
    "    for i in range(3, n + 1):\n",
    "        \n",
    "        # Compute the next term by summing the previous two terms\n",
    "        c = a + b\n",
    "        # Print the next term\n",
    "        print(c, end=\" \")\n",
    "        # Update a and b for the next iteration\n",
    "        a, b = b, c\n",
    "    print() \n",
    "\n",
    "n = int(input(\"Enter the number of terms for Fibonacci series: \"))\n",
    "fibonacci_series(n)\n"
   ]
  },
  {
   "cell_type": "markdown",
   "id": "9c4e0230",
   "metadata": {},
   "source": [
    "# Q.20 Write a program to check whether a given number is amstrong number or not."
   ]
  },
  {
   "cell_type": "code",
   "execution_count": 23,
   "id": "0d80cd3d",
   "metadata": {},
   "outputs": [
    {
     "name": "stdout",
     "output_type": "stream",
     "text": [
      "Enter a number: 43\n",
      "43 is not an Armstrong number.\n"
     ]
    }
   ],
   "source": [
    "def is_armstrong_number(number):\n",
    "    num_str = str(number)\n",
    "\n",
    "    num_of_digits = len(num_str)\n",
    "\n",
    "    sum_of_powered_digits = 0\n",
    "    \n",
    "    for digit_char in num_str:\n",
    "        \n",
    "        digit = int(digit_char)\n",
    "        \n",
    "        sum_of_powered_digits += digit ** num_of_digits\n",
    "\n",
    "    if sum_of_powered_digits == number:\n",
    "        return True\n",
    "    else:\n",
    "        return False\n",
    "\n",
    "number = int(input(\"Enter a number: \"))\n",
    "\n",
    "result = is_armstrong_number(number)\n",
    "if result:\n",
    "    print(number, \"is an Armstrong number.\")\n",
    "else:\n",
    "    print(number, \"is not an Armstrong number.\")\n"
   ]
  },
  {
   "cell_type": "markdown",
   "id": "d2910ae7",
   "metadata": {},
   "source": [
    "# Q.21 Write a program to check whether a given number is strong number or not."
   ]
  },
  {
   "cell_type": "code",
   "execution_count": 33,
   "id": "b15771b2",
   "metadata": {},
   "outputs": [
    {
     "name": "stdout",
     "output_type": "stream",
     "text": [
      "Enter a number:55\n",
      "The number is not a strong number\n"
     ]
    }
   ],
   "source": [
    "sum1=0\n",
    "num=int(input(\"Enter a number:\"))\n",
    "temp=num\n",
    "while(num):\n",
    "    i=1\n",
    "    f=1\n",
    "    r=num%10\n",
    "    while(i<=r):\n",
    "        f=f*i\n",
    "        i=i+1\n",
    "    sum1=sum1+f\n",
    "    num=num//10\n",
    "if(sum1==temp):\n",
    "    print(\"The number is a strong number\")\n",
    "else:\n",
    "    \n",
    "    print(\"The number is not a strong number\")"
   ]
  },
  {
   "cell_type": "markdown",
   "id": "5df9aecf",
   "metadata": {},
   "source": [
    "# Q.22 Write a program to check whether a given number is perfect number or not."
   ]
  },
  {
   "cell_type": "code",
   "execution_count": 36,
   "id": "db847bac",
   "metadata": {},
   "outputs": [
    {
     "name": "stdout",
     "output_type": "stream",
     "text": [
      "Enter any number: 0\n",
      "The number is a Perfect number!\n"
     ]
    }
   ],
   "source": [
    "n = int(input(\"Enter any number: \"))\n",
    "sum1 = 0\n",
    "for i in range(1, n):\n",
    "    if(n % i == 0):\n",
    "        sum1 = sum1 + i\n",
    "if (sum1 == n):\n",
    "    print(\"The number is a Perfect number!\")\n",
    "else:\n",
    "    print(\"The number is not a Perfect number!\")"
   ]
  },
  {
   "cell_type": "code",
   "execution_count": null,
   "id": "7dad3040",
   "metadata": {},
   "outputs": [],
   "source": []
  }
 ],
 "metadata": {
  "kernelspec": {
   "display_name": "Python 3 (ipykernel)",
   "language": "python",
   "name": "python3"
  },
  "language_info": {
   "codemirror_mode": {
    "name": "ipython",
    "version": 3
   },
   "file_extension": ".py",
   "mimetype": "text/x-python",
   "name": "python",
   "nbconvert_exporter": "python",
   "pygments_lexer": "ipython3",
   "version": "3.9.13"
  }
 },
 "nbformat": 4,
 "nbformat_minor": 5
}
