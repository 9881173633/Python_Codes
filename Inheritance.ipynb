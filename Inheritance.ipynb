{
 "cells": [
  {
   "cell_type": "markdown",
   "id": "5732902e",
   "metadata": {},
   "source": [
    "# Q 1. Create a class called Employee that inherits from the Person class. The Employee class should have an additional attribute called employee_id and a method called display_employee_info that prints out the employee's name,age,gender and employee_id."
   ]
  },
  {
   "cell_type": "code",
   "execution_count": 7,
   "id": "d01249c4",
   "metadata": {},
   "outputs": [],
   "source": [
    "class Person:\n",
    "    def __init__(self, name, age, gender):\n",
    "        self.name = name\n",
    "        self.age = age\n",
    "        self.gender = gender\n",
    "        \n",
    "    def display_person_info(self):\n",
    "        print('Name=',self.name)\n",
    "        print('Age=',self.age)\n",
    "        print('Gender=',self.gender)\n",
    "\n",
    "class Employee(Person):\n",
    "    def __init__(self, name, age, gender, employee_id):\n",
    "        Person.__init__(self,name, age, gender)\n",
    "        self.employee_id = employee_id\n",
    "        \n",
    "    def display_employee_info(self):\n",
    "        Person.display_person_info(self)\n",
    "        print(\"Employee ID\", self.employee_id)\n"
   ]
  },
  {
   "cell_type": "code",
   "execution_count": 8,
   "id": "a93a4b2c",
   "metadata": {},
   "outputs": [
    {
     "name": "stdout",
     "output_type": "stream",
     "text": [
      "Name= Ritesh\n",
      "Age= 24\n",
      "Gender= Male\n",
      "Employee ID 1\n"
     ]
    }
   ],
   "source": [
    "employee = Employee(\"Ritesh\", 24, \"Male\", \"1\")\n",
    "employee.display_employee_info()\n"
   ]
  },
  {
   "cell_type": "markdown",
   "id": "c5bc3f58",
   "metadata": {},
   "source": [
    "# Q2. Create a class called Car that inherits from the Vehicle class. The Car class should have an additional attribute called num_doors and a method called lock_doors that prints out a message indicating that the doors have been locked."
   ]
  },
  {
   "cell_type": "code",
   "execution_count": 10,
   "id": "8372ff98",
   "metadata": {},
   "outputs": [],
   "source": [
    "class Vehicle:\n",
    "    def __init__(self, make, model, year):\n",
    "        self.make = make\n",
    "        self.model = model\n",
    "        self.year = year\n",
    "\n",
    "    def start_engine(self):\n",
    "        print(\"Engine started.\")\n",
    "\n",
    "    def stop_engine(self):\n",
    "        print(\"Engine stopped.\")\n",
    "\n",
    "class Car(Vehicle):\n",
    "    def __init__(self, make, model, year, num_doors):\n",
    "        super().__init__(make, model, year)\n",
    "        self.num_doors = num_doors\n",
    "\n",
    "    def lock_doors(self):\n",
    "        print(f\"All {self.num_doors} doors have been locked.\")\n"
   ]
  },
  {
   "cell_type": "code",
   "execution_count": 11,
   "id": "976d0f04",
   "metadata": {},
   "outputs": [
    {
     "name": "stdout",
     "output_type": "stream",
     "text": [
      "Toyota\n",
      "Camry\n",
      "2022\n",
      "4\n",
      "Engine started.\n",
      "All 4 doors have been locked.\n"
     ]
    }
   ],
   "source": [
    "car = Car(\"Toyota\", \"Camry\", 2022, 4)\n",
    "print(car.make)      \n",
    "print(car.model)     \n",
    "print(car.year)     \n",
    "print(car.num_doors) \n",
    "car.start_engine()    \n",
    "car.lock_doors()   "
   ]
  },
  {
   "cell_type": "markdown",
   "id": "f12ce318",
   "metadata": {},
   "source": [
    "# Q 3. Create a class called Cylinder that inherits from the Circle class. The Cylinder class should have an additional attribute called height and a method called get_volume that calculates and returns the volume of the cylinder."
   ]
  },
  {
   "cell_type": "code",
   "execution_count": 6,
   "id": "2f5b6d20",
   "metadata": {},
   "outputs": [],
   "source": [
    "class Circle:\n",
    "    def __init__(self,area, radius):\n",
    "        self.radius = radius\n",
    "        self.area = area\n",
    "    def get_area(self):\n",
    "        return 3.14 * self.radius ** 2  #Area of circle\n",
    "\n",
    "class Cylinder(Circle):\n",
    "    def __init__(self,area, radius, height):\n",
    "        Circle.__init__(self,area,radius)\n",
    "        self.height = height\n",
    "\n",
    "    def get_volume(self):\n",
    "        return self.get_area() * self.height"
   ]
  },
  {
   "cell_type": "code",
   "execution_count": 7,
   "id": "c19bc329",
   "metadata": {},
   "outputs": [
    {
     "name": "stdout",
     "output_type": "stream",
     "text": [
      "4710.0\n",
      "314.0\n"
     ]
    }
   ],
   "source": [
    "cylinder = Cylinder(5, 10,15)\n",
    "print(cylinder.get_volume())\n",
    "print(cylinder.get_area())"
   ]
  },
  {
   "cell_type": "code",
   "execution_count": null,
   "id": "c356fb74",
   "metadata": {},
   "outputs": [],
   "source": []
  }
 ],
 "metadata": {
  "kernelspec": {
   "display_name": "Python 3 (ipykernel)",
   "language": "python",
   "name": "python3"
  },
  "language_info": {
   "codemirror_mode": {
    "name": "ipython",
    "version": 3
   },
   "file_extension": ".py",
   "mimetype": "text/x-python",
   "name": "python",
   "nbconvert_exporter": "python",
   "pygments_lexer": "ipython3",
   "version": "3.9.13"
  }
 },
 "nbformat": 4,
 "nbformat_minor": 5
}
