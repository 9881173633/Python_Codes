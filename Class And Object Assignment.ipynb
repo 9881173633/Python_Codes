{
 "cells": [
  {
   "cell_type": "markdown",
   "id": "a6f2a399",
   "metadata": {},
   "source": [
    "# Q1. Create a class called Rectangle with attributes such as width and height. Define methods to calculate the area and perimeter of the rectangle."
   ]
  },
  {
   "cell_type": "code",
   "execution_count": 1,
   "id": "dbb7599b",
   "metadata": {},
   "outputs": [],
   "source": [
    "class Rectangle:\n",
    "    def __init__(self, width, height):\n",
    "        self.width = width\n",
    "        self.height = height\n",
    "    \n",
    "    def area(self):\n",
    "        return self.width * self.height\n",
    "    \n",
    "    def perimeter(self):\n",
    "        return 2 * (self.width + self.height)\n"
   ]
  },
  {
   "cell_type": "code",
   "execution_count": 2,
   "id": "32a6a796",
   "metadata": {},
   "outputs": [
    {
     "name": "stdout",
     "output_type": "stream",
     "text": [
      "Area: 15\n",
      "Perimeter: 16\n"
     ]
    }
   ],
   "source": [
    "r = Rectangle(5, 3)\n",
    "print(\"Area:\", r.area())       # Output: Area: 15\n",
    "print(\"Perimeter:\", r.perimeter()) # Output: Perimeter: 16\n"
   ]
  },
  {
   "cell_type": "markdown",
   "id": "763c4d25",
   "metadata": {},
   "source": [
    "# Q2. Create a class called Circle with attributes such as radius. Define methods to calculate the area and circumference of the circle."
   ]
  },
  {
   "cell_type": "code",
   "execution_count": 3,
   "id": "2355c269",
   "metadata": {},
   "outputs": [],
   "source": [
    "class Circle:\n",
    "    def __init__(self, radius):\n",
    "        self.radius = radius\n",
    "    \n",
    "    def area(self):\n",
    "        return 3.14159 * (self.radius ** 2)\n",
    "    \n",
    "    def circumference(self):\n",
    "        return 2 * 3.14159 * self.radius\n"
   ]
  },
  {
   "cell_type": "code",
   "execution_count": 4,
   "id": "20a538ef",
   "metadata": {},
   "outputs": [
    {
     "name": "stdout",
     "output_type": "stream",
     "text": [
      "Area: 50.26544\n",
      "Circumference: 25.13272\n"
     ]
    }
   ],
   "source": [
    "c = Circle(4)\n",
    "print(\"Area:\", c.area())                # Output: Area: 50.26544\n",
    "print(\"Circumference:\", c.circumference())  # Output: Circumference: 25.13272\n"
   ]
  },
  {
   "cell_type": "markdown",
   "id": "1b2ef3c1",
   "metadata": {},
   "source": [
    "# Q3. Create a class called BankAccount with attributes such as balance and interest_rate. Define methods to deposit, withdraw, and calculate interest on the balance."
   ]
  },
  {
   "cell_type": "code",
   "execution_count": 5,
   "id": "3b2ec140",
   "metadata": {},
   "outputs": [],
   "source": [
    "class BankAccount:\n",
    "    def __init__(self, balance=0, interest_rate=0.01):\n",
    "        self.balance = balance\n",
    "        self.interest_rate = interest_rate\n",
    "    \n",
    "    def deposit(self, amount):\n",
    "        self.balance += amount\n",
    "    \n",
    "    def withdraw(self, amount):\n",
    "        if amount > self.balance:\n",
    "            print(\"Insufficient funds\")\n",
    "        else:\n",
    "            self.balance -= amount\n",
    "    \n",
    "    def calculate_interest(self):\n",
    "        return self.balance * self.interest_rate\n"
   ]
  },
  {
   "cell_type": "code",
   "execution_count": 6,
   "id": "bd1487a7",
   "metadata": {},
   "outputs": [
    {
     "name": "stdout",
     "output_type": "stream",
     "text": [
      "Balance: 1000\n",
      "Interest: 50.0\n"
     ]
    }
   ],
   "source": [
    "acc = BankAccount(1000, 0.05)\n",
    "print(\"Balance:\", acc.balance)  \n",
    "print(\"Interest:\", acc.calculate_interest()) \n"
   ]
  },
  {
   "cell_type": "code",
   "execution_count": 7,
   "id": "4794228f",
   "metadata": {},
   "outputs": [
    {
     "name": "stdout",
     "output_type": "stream",
     "text": [
      "Balance: 1500\n"
     ]
    }
   ],
   "source": [
    "acc.deposit(500)\n",
    "print(\"Balance:\", acc.balance)\n"
   ]
  },
  {
   "cell_type": "code",
   "execution_count": 8,
   "id": "61379661",
   "metadata": {},
   "outputs": [
    {
     "name": "stdout",
     "output_type": "stream",
     "text": [
      "Insufficient funds\n",
      "Balance: 700\n"
     ]
    }
   ],
   "source": [
    "acc.withdraw(2000) \n",
    "acc.withdraw(800)\n",
    "print(\"Balance:\", acc.balance) \n"
   ]
  },
  {
   "cell_type": "code",
   "execution_count": 10,
   "id": "f53e3ec2",
   "metadata": {},
   "outputs": [
    {
     "name": "stdout",
     "output_type": "stream",
     "text": [
      "Interest: 35.0\n"
     ]
    }
   ],
   "source": [
    "print(\"Interest:\", acc.calculate_interest()"
   ]
  },
  {
   "cell_type": "markdown",
   "id": "2dba90f4",
   "metadata": {},
   "source": [
    "# Q4. Create a class called Person with attributes name,age and gender. Include a method called Introduce that prints out a message introducing the person with their name, age and gender."
   ]
  },
  {
   "cell_type": "code",
   "execution_count": 18,
   "id": "839f7fed",
   "metadata": {},
   "outputs": [],
   "source": [
    "class Person:\n",
    "    def __init__(self, name, age, gender):\n",
    "        self.name = name\n",
    "        self.age = age\n",
    "        self.gender = gender\n",
    "    \n",
    "    def introduce(self):\n",
    "        print('Name=',self.name)\n",
    "        print('Age=',self.age)\n",
    "        print('Gender=',self.gender)\n"
   ]
  },
  {
   "cell_type": "code",
   "execution_count": 20,
   "id": "7c646216",
   "metadata": {},
   "outputs": [
    {
     "name": "stdout",
     "output_type": "stream",
     "text": [
      "Name= Ritesh\n",
      "Age= 25\n",
      "Gender= male\n"
     ]
    }
   ],
   "source": [
    "p = Person(\"Ritesh\", 25, \"male\")\n",
    "p.introduce()  \n"
   ]
  },
  {
   "cell_type": "markdown",
   "id": "894fab29",
   "metadata": {},
   "source": [
    "# Q5. Create a class called Vehicle with attributes make, model and year Include a method caled start_engine that prints out a message indicating that engine has started."
   ]
  },
  {
   "cell_type": "code",
   "execution_count": 16,
   "id": "7b14ca99",
   "metadata": {},
   "outputs": [],
   "source": [
    "class Vehicle:\n",
    "    def __init__(self, make, model, year):\n",
    "        self.make = make\n",
    "        self.model = model\n",
    "        self.year = year\n",
    "    \n",
    "    def start_engine(self):\n",
    "        print('Make=',self.make)\n",
    "        print('Model=',self.model)\n",
    "        print('Year=',self.year)"
   ]
  },
  {
   "cell_type": "code",
   "execution_count": 17,
   "id": "5dd70afa",
   "metadata": {},
   "outputs": [
    {
     "name": "stdout",
     "output_type": "stream",
     "text": [
      "Make= Ford\n",
      "Model= Mustang\n",
      "Year= 2022\n"
     ]
    }
   ],
   "source": [
    "v = Vehicle(\"Ford\", \"Mustang\", 2022)\n",
    "v.start_engine()  \n"
   ]
  },
  {
   "cell_type": "code",
   "execution_count": null,
   "id": "119868ab",
   "metadata": {},
   "outputs": [],
   "source": []
  }
 ],
 "metadata": {
  "kernelspec": {
   "display_name": "Python 3 (ipykernel)",
   "language": "python",
   "name": "python3"
  },
  "language_info": {
   "codemirror_mode": {
    "name": "ipython",
    "version": 3
   },
   "file_extension": ".py",
   "mimetype": "text/x-python",
   "name": "python",
   "nbconvert_exporter": "python",
   "pygments_lexer": "ipython3",
   "version": "3.9.13"
  }
 },
 "nbformat": 4,
 "nbformat_minor": 5
}
