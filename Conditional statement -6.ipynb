{
 "cells": [
  {
   "cell_type": "markdown",
   "id": "c370f7e1",
   "metadata": {},
   "source": [
    "# Q.1 A student will not be allowed to sit in exam if his/her attendance is less than\n",
    "\n",
    "75%.\n",
    "\n",
    "Take following input from user\n",
    "\n",
    "Number of classes held\n",
    "\n",
    "Number of classes attended.\n",
    "\n",
    "And print\n",
    "\n",
    "percentage of class attended\n",
    "\n",
    "Is student is allowed to sit in exam or not."
   ]
  },
  {
   "cell_type": "code",
   "execution_count": 1,
   "id": "e92d85b1",
   "metadata": {},
   "outputs": [
    {
     "name": "stdout",
     "output_type": "stream",
     "text": [
      "Enter the number of classes held: 50\n",
      "Enter the number of classes attended: 40\n",
      "Percentage of classes attended: 80.00%\n",
      "The student is allowed to sit in the exam.\n"
     ]
    }
   ],
   "source": [
    "# Input\n",
    "number_of_classes_held = int(input(\"Enter the number of classes held: \"))\n",
    "number_of_classes_attended = int(input(\"Enter the number of classes attended: \"))\n",
    "\n",
    "# Calculate percentage of classes attended\n",
    "percentage_attendance = (number_of_classes_attended / number_of_classes_held) * 100\n",
    "\n",
    "# Check if student is allowed to sit in exam or not\n",
    "if percentage_attendance >= 75:\n",
    "    print(\"Percentage of classes attended: {:.2f}%\".format(percentage_attendance))\n",
    "    print(\"The student is allowed to sit in the exam.\")\n",
    "else:\n",
    "    print(\"Percentage of classes attended: {:.2f}%\".format(percentage_attendance))\n",
    "    print(\"The student is not allowed to sit in the exam.\")\n"
   ]
  },
  {
   "cell_type": "code",
   "execution_count": null,
   "id": "4b4628d5",
   "metadata": {},
   "outputs": [],
   "source": []
  }
 ],
 "metadata": {
  "kernelspec": {
   "display_name": "Python 3 (ipykernel)",
   "language": "python",
   "name": "python3"
  },
  "language_info": {
   "codemirror_mode": {
    "name": "ipython",
    "version": 3
   },
   "file_extension": ".py",
   "mimetype": "text/x-python",
   "name": "python",
   "nbconvert_exporter": "python",
   "pygments_lexer": "ipython3",
   "version": "3.9.13"
  }
 },
 "nbformat": 4,
 "nbformat_minor": 5
}
